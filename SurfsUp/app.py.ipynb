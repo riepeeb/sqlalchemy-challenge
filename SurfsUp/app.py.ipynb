{
 "cells": [
  {
   "cell_type": "code",
   "execution_count": 2,
   "id": "da495d7f",
   "metadata": {},
   "outputs": [],
   "source": [
    "import numpy as np\n",
    "import pandas as pd\n",
    "import datetime as dt\n",
    "from datetime import timedelta\n",
    "\n",
    "import sqlalchemy\n",
    "from sqlalchemy.ext.automap import automap_base\n",
    "from sqlalchemy.orm import Session\n",
    "from sqlalchemy import create_engine, func\n",
    "from flask import Flask, jsonify"
   ]
  },
  {
   "cell_type": "code",
   "execution_count": 3,
   "id": "6dd4e21d",
   "metadata": {},
   "outputs": [],
   "source": [
    "engine = create_engine(\"sqlite:///Resources/hawaii.sqlite\")"
   ]
  },
  {
   "cell_type": "code",
   "execution_count": 4,
   "id": "b26ff442",
   "metadata": {},
   "outputs": [],
   "source": [
    "Base = automap_base()\n",
    "Base.prepare(engine, reflect=True)"
   ]
  },
  {
   "cell_type": "code",
   "execution_count": 5,
   "id": "80f50368",
   "metadata": {},
   "outputs": [],
   "source": [
    "measurement = Base.classes.measurement\n",
    "station = Base.classes.station"
   ]
  },
  {
   "cell_type": "code",
   "execution_count": 6,
   "id": "48812768",
   "metadata": {},
   "outputs": [],
   "source": [
    "session = Session(engine)"
   ]
  },
  {
   "cell_type": "code",
   "execution_count": 7,
   "id": "758ce018",
   "metadata": {},
   "outputs": [],
   "source": [
    "app = Flask(__name__)"
   ]
  },
  {
   "cell_type": "code",
   "execution_count": 8,
   "id": "ae63c1d8",
   "metadata": {},
   "outputs": [],
   "source": [
    "last_twelve_months = '2016-08-23'"
   ]
  },
  {
   "cell_type": "code",
   "execution_count": 9,
   "id": "437ca629",
   "metadata": {},
   "outputs": [],
   "source": [
    "@app.route(\"/\")\n",
    "def welcome():\n",
    "    return (\n",
    "        f\"<p>Welcome! This is the Hawaii weather API. Use of these link will yield JSON results</p>\"\n",
    "        f\"/api/v1.0/precipitation<br/>Returns a list of precipitation data for the dates between 8/23/16 and 8/23/17<br/><br/>\"\n",
    "        f\"/api/v1.0/stations<br/>Returns a list of the weather stations<br/><br/>\"\n",
    "        f\"/api/v1.0/tobs<br/>Returns a list of the Temperature Observations (tobs) for each station for the dates between 8/23/16 and 8/23/17<br/><br/>\"\n",
    "        f\"/api/v1.0/start_date/end_date<br/>Returns a list of the minimum temperature, the average temperature, and the max temperature for the dates between the given start date and end date<br/><br/>.\"\n",
    "    )"
   ]
  },
  {
   "cell_type": "code",
   "execution_count": 10,
   "id": "dfb5ba8a",
   "metadata": {},
   "outputs": [],
   "source": [
    "@app.route(\"/api/v1.0/precipitation\")\n",
    "def precipitation():\n",
    "    \n",
    "    prcp_results = session.query(Measurement.date, func.avg(Measurement.prcp)).filter(Measurement.date > last_twelve_months).group_by(Measurement.date).all()\n",
    "    return jsonify(prcp_results)"
   ]
  },
  {
   "cell_type": "code",
   "execution_count": 11,
   "id": "a35e483e",
   "metadata": {},
   "outputs": [],
   "source": [
    "@app.route(\"/api/v1.0/stations\")\n",
    "def stations():\n",
    "    station_results = session.query(Station.station, Station.name).all()\n",
    "    return jsonify(station_results)"
   ]
  },
  {
   "cell_type": "code",
   "execution_count": 12,
   "id": "56b9bcf5",
   "metadata": {},
   "outputs": [],
   "source": [
    "@app.route(\"/api/v1.0/tobs\")\n",
    "def tobs():\n",
    "    tobs_results = session.query(Measurement.date, Measurement.station, Measurement.tobs).filter(Measurement.date > last_twelve_months).all()\n",
    "    return jsonify(tobs_results)"
   ]
  },
  {
   "cell_type": "code",
   "execution_count": 13,
   "id": "c9bc9056",
   "metadata": {},
   "outputs": [],
   "source": [
    "@app.route(\"/api/v1.0/<start>/<end>\")\n",
    "def startDateEndDate(start,end):\n",
    "    range_temp_results = session.query(func.min(Measurement.tobs), func.avg(Measurement.tobs), func.max(Measurement.tobs)).filter(Measurement.date >= start).filter(Measurement.date <= end).all()\n",
    "    return jsonify(range_temp_results)\n"
   ]
  },
  {
   "cell_type": "code",
   "execution_count": 15,
   "id": "7c9f5a18",
   "metadata": {},
   "outputs": [
    {
     "name": "stdout",
     "output_type": "stream",
     "text": [
      " * Serving Flask app '__main__'\n",
      " * Debug mode: on\n"
     ]
    },
    {
     "name": "stderr",
     "output_type": "stream",
     "text": [
      "WARNING: This is a development server. Do not use it in a production deployment. Use a production WSGI server instead.\n",
      " * Running on http://127.0.0.1:5000\n",
      "Press CTRL+C to quit\n",
      " * Restarting with stat\n"
     ]
    },
    {
     "ename": "SystemExit",
     "evalue": "1",
     "output_type": "error",
     "traceback": [
      "An exception has occurred, use %tb to see the full traceback.\n",
      "\u001b[1;31mSystemExit\u001b[0m\u001b[1;31m:\u001b[0m 1\n"
     ]
    }
   ],
   "source": [
    "if __name__ == \"__main__\":\n",
    "    app.run(debug=True)"
   ]
  },
  {
   "cell_type": "code",
   "execution_count": null,
   "id": "42f359f0",
   "metadata": {},
   "outputs": [],
   "source": []
  }
 ],
 "metadata": {
  "kernelspec": {
   "display_name": "PythonData",
   "language": "python",
   "name": "pythondata"
  },
  "language_info": {
   "codemirror_mode": {
    "name": "ipython",
    "version": 3
   },
   "file_extension": ".py",
   "mimetype": "text/x-python",
   "name": "python",
   "nbconvert_exporter": "python",
   "pygments_lexer": "ipython3",
   "version": "3.7.7"
  }
 },
 "nbformat": 4,
 "nbformat_minor": 5
}
